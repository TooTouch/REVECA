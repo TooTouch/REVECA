{
 "cells": [
  {
   "cell_type": "code",
   "execution_count": 1,
   "metadata": {},
   "outputs": [],
   "source": [
    "from build_dataset import create_dataloader\n",
    "from models import *\n",
    "from main import get_args\n",
    "import torch.nn as nn\n",
    "import torch\n",
    "\n",
    "from transformers import GPT2Tokenizer, GPT2Model, GPT2Config\n",
    "\n",
    "from utils import convert_device, agg_inputs_to_batch, load_checkpoint"
   ]
  },
  {
   "cell_type": "code",
   "execution_count": 2,
   "metadata": {},
   "outputs": [],
   "source": [
    "args = get_args(True)\n",
    "args.yaml_file = '../config/captioning_config.yaml'"
   ]
  },
  {
   "cell_type": "code",
   "execution_count": 3,
   "metadata": {},
   "outputs": [
    {
     "data": {
      "text/plain": [
       "1"
      ]
     },
     "execution_count": 3,
     "metadata": {},
     "output_type": "execute_result"
    }
   ],
   "source": [
    "tokenizer = GPT2Tokenizer.from_pretrained('gpt2')\n",
    "tokenizer.add_special_tokens({'cls_token':'[CLS]'})"
   ]
  },
  {
   "cell_type": "markdown",
   "metadata": {},
   "source": [
    "# Load a Dataloader"
   ]
  },
  {
   "cell_type": "code",
   "execution_count": 4,
   "metadata": {},
   "outputs": [],
   "source": [
    "validloader = create_dataloader(args, 'val', tokenizer)"
   ]
  },
  {
   "cell_type": "code",
   "execution_count": 5,
   "metadata": {},
   "outputs": [],
   "source": [
    "boundary_ids, captions, frames, labels = agg_inputs_to_batch(next(iter(validloader)))"
   ]
  },
  {
   "cell_type": "markdown",
   "metadata": {},
   "source": [
    "# Build a VideoBoundaryCoCa"
   ]
  },
  {
   "cell_type": "code",
   "execution_count": 6,
   "metadata": {},
   "outputs": [],
   "source": [
    "args.device = 'cuda'"
   ]
  },
  {
   "cell_type": "code",
   "execution_count": 7,
   "metadata": {},
   "outputs": [
    {
     "name": "stderr",
     "output_type": "stream",
     "text": [
      "Some weights of MultiModalDecoder were not initialized from the model checkpoint at gpt2 and are newly initialized: ['h.7.crossattention.c_attn.weight', 'h.9.crossattention.c_attn.weight', 'h.9.crossattention.c_attn.bias', 'h.6.ln_cross_attn.weight', 'h.8.ln_cross_attn.bias', 'h.8.ln_cross_attn.weight', 'h.9.ln_cross_attn.weight', 'h.0.ln_cross_attn.bias', 'h.11.crossattention.c_attn.weight', 'h.0.crossattention.c_attn.weight', 'h.6.crossattention.q_attn.weight', 'h.2.crossattention.c_proj.bias', 'h.3.ln_cross_attn.bias', 'h.0.crossattention.q_attn.weight', 'h.6.crossattention.q_attn.bias', 'h.2.crossattention.q_attn.weight', 'h.9.crossattention.q_attn.weight', 'h.1.crossattention.q_attn.bias', 'h.11.crossattention.masked_bias', 'h.10.crossattention.c_proj.bias', 'h.9.crossattention.masked_bias', 'h.1.crossattention.c_attn.bias', 'h.9.crossattention.q_attn.bias', 'h.4.crossattention.c_proj.bias', 'h.5.crossattention.c_proj.weight', 'h.3.crossattention.bias', 'h.5.crossattention.q_attn.weight', 'h.10.crossattention.q_attn.bias', 'h.4.ln_cross_attn.bias', 'h.7.crossattention.q_attn.weight', 'h.6.crossattention.c_proj.weight', 'h.8.crossattention.c_proj.weight', 'h.8.crossattention.q_attn.weight', 'h.3.crossattention.c_attn.weight', 'h.7.ln_cross_attn.weight', 'h.4.crossattention.bias', 'h.10.crossattention.c_attn.weight', 'h.7.ln_cross_attn.bias', 'h.8.crossattention.c_proj.bias', 'h.10.crossattention.q_attn.weight', 'h.10.ln_cross_attn.weight', 'h.0.crossattention.c_proj.weight', 'h.2.crossattention.c_attn.bias', 'h.9.ln_cross_attn.bias', 'h.9.crossattention.bias', 'h.2.crossattention.masked_bias', 'h.4.crossattention.q_attn.bias', 'h.5.crossattention.c_attn.weight', 'h.6.crossattention.c_proj.bias', 'h.3.crossattention.masked_bias', 'h.10.ln_cross_attn.bias', 'h.3.crossattention.c_proj.bias', 'h.8.crossattention.masked_bias', 'h.1.crossattention.masked_bias', 'h.1.crossattention.c_attn.weight', 'h.1.ln_cross_attn.bias', 'h.11.crossattention.c_attn.bias', 'h.11.crossattention.q_attn.bias', 'h.11.crossattention.bias', 'h.2.ln_cross_attn.weight', 'h.7.crossattention.c_proj.bias', 'h.5.crossattention.c_proj.bias', 'h.0.crossattention.bias', 'h.11.crossattention.q_attn.weight', 'h.7.crossattention.c_attn.bias', 'h.2.crossattention.q_attn.bias', 'h.4.ln_cross_attn.weight', 'h.1.ln_cross_attn.weight', 'h.5.ln_cross_attn.weight', 'h.2.crossattention.bias', 'h.1.crossattention.q_attn.weight', 'h.0.crossattention.q_attn.bias', 'h.4.crossattention.c_attn.bias', 'h.1.crossattention.c_proj.weight', 'h.7.crossattention.c_proj.weight', 'h.2.ln_cross_attn.bias', 'h.5.crossattention.masked_bias', 'h.4.crossattention.q_attn.weight', 'h.11.ln_cross_attn.weight', 'h.8.crossattention.q_attn.bias', 'h.5.crossattention.c_attn.bias', 'h.10.crossattention.masked_bias', 'h.7.crossattention.bias', 'h.6.crossattention.masked_bias', 'h.11.crossattention.c_proj.bias', 'h.6.crossattention.c_attn.bias', 'h.0.crossattention.c_attn.bias', 'h.4.crossattention.c_proj.weight', 'h.6.crossattention.bias', 'h.7.crossattention.masked_bias', 'h.10.crossattention.c_attn.bias', 'h.0.ln_cross_attn.weight', 'h.1.crossattention.bias', 'h.2.crossattention.c_attn.weight', 'h.8.crossattention.c_attn.weight', 'h.5.crossattention.q_attn.bias', 'h.3.crossattention.q_attn.weight', 'h.5.crossattention.bias', 'h.6.crossattention.c_attn.weight', 'h.8.crossattention.bias', 'h.8.crossattention.c_attn.bias', 'h.5.ln_cross_attn.bias', 'h.10.crossattention.c_proj.weight', 'h.3.ln_cross_attn.weight', 'h.0.crossattention.c_proj.bias', 'h.3.crossattention.q_attn.bias', 'h.4.crossattention.c_attn.weight', 'h.1.crossattention.c_proj.bias', 'h.11.ln_cross_attn.bias', 'h.9.crossattention.c_proj.weight', 'h.10.crossattention.bias', 'h.2.crossattention.c_proj.weight', 'h.3.crossattention.c_proj.weight', 'h.7.crossattention.q_attn.bias', 'h.11.crossattention.c_proj.weight', 'h.0.crossattention.masked_bias', 'h.6.ln_cross_attn.bias', 'h.9.crossattention.c_proj.bias', 'h.4.crossattention.masked_bias', 'h.3.crossattention.c_attn.bias']\n",
      "You should probably TRAIN this model on a down-stream task to be able to use it for predictions and inference.\n"
     ]
    }
   ],
   "source": [
    "model = create_model(args, tokenizer)"
   ]
  },
  {
   "cell_type": "code",
   "execution_count": 12,
   "metadata": {},
   "outputs": [],
   "source": [
    "loss = model(captions=captions, frames=frames, labels=labels, return_loss=True)"
   ]
  },
  {
   "cell_type": "code",
   "execution_count": 13,
   "metadata": {},
   "outputs": [
    {
     "data": {
      "text/plain": [
       "tensor(16.1398, grad_fn=<AddBackward0>)"
      ]
     },
     "execution_count": 13,
     "metadata": {},
     "output_type": "execute_result"
    }
   ],
   "source": [
    "loss"
   ]
  },
  {
   "cell_type": "markdown",
   "metadata": {},
   "source": [
    "# Generation"
   ]
  },
  {
   "cell_type": "code",
   "execution_count": 14,
   "metadata": {},
   "outputs": [
    {
     "name": "stderr",
     "output_type": "stream",
     "text": [
      "Setting `pad_token_id` to `eos_token_id`:50256 for open-end generation.\n"
     ]
    }
   ],
   "source": [
    "output = model.generate(\n",
    "    frames, \n",
    "    max_length             = args.gen_max_length, \n",
    "    decoder_start_token_id = tokenizer.encode('Subject')[0], \n",
    "    num_beams              = 2, \n",
    ")"
   ]
  },
  {
   "cell_type": "code",
   "execution_count": 15,
   "metadata": {},
   "outputs": [
    {
     "data": {
      "text/plain": [
       "['Subject\\n\\n\\n\\n\\n\\n\\n\\n\\n\\n\\n\\n\\n\\n\\n\\n\\n\\n\\n\\n\\n\\n\\n\\n\\n\\n\\n\\n\\n\\n\\n\\n\\n\\n\\n\\n\\n\\n\"\\n\\n\\n\\n\\n\\n\\n\\n\\n\\n\\n\\n\\n\\n\".\\n\\n\\n\\n\\n\\n\\n\\n\\n\\n\\n\\n\\n\\n\"----The-\\n\\n\\n\\n\\n\\n\\n\\n\\n\\n\\n\\n\\n\\n\\n\\n\\n\\n\\n\\n\\n\\n\\n\\n\\n\\n\\n\\n\\n\\n\\n\\n\\n\\n\\n\\n\\n\\n\\n\\n\\n\\n\\n\\n\\n\\n\\n\\n\\n\\n\\n',\n",
       " 'Subject\\n\\n\\n\\n\\n\\n\\n\\n\\n\\n\\n\\n\\n\\n\\n\\n\\n\\n\\n\\n\\n\\n\\n\\n\\n\\nThe,,,,,-,,--------------------------------------------------------------------------------------------']"
      ]
     },
     "execution_count": 15,
     "metadata": {},
     "output_type": "execute_result"
    }
   ],
   "source": [
    "tokenizer.batch_decode(output)"
   ]
  },
  {
   "cell_type": "markdown",
   "metadata": {},
   "source": [
    "# Inference"
   ]
  },
  {
   "cell_type": "code",
   "execution_count": 8,
   "metadata": {},
   "outputs": [],
   "source": [
    "testloader = create_dataloader(args, 'test', tokenizer, test_mode=True)"
   ]
  },
  {
   "cell_type": "code",
   "execution_count": 9,
   "metadata": {},
   "outputs": [],
   "source": [
    "boundary_ids, frames  = agg_inputs_to_batch(next(iter(testloader)), test_mode=True)\n",
    "frames = convert_device(frames, 'cuda')"
   ]
  },
  {
   "cell_type": "code",
   "execution_count": 10,
   "metadata": {},
   "outputs": [
    {
     "name": "stdout",
     "output_type": "stream",
     "text": [
      "load checkpoint from ./output/test/test_step4.pt\n"
     ]
    }
   ],
   "source": [
    "model.to('cuda')\n",
    "model = load_checkpoint('./output/test/test_step4.pt', model)"
   ]
  },
  {
   "cell_type": "code",
   "execution_count": 11,
   "metadata": {},
   "outputs": [
    {
     "name": "stderr",
     "output_type": "stream",
     "text": [
      "Setting `pad_token_id` to `eos_token_id`:50256 for open-end generation.\n"
     ]
    }
   ],
   "source": [
    "output = model.generate(\n",
    "    frames, \n",
    "    max_length             = args.gen_max_length, \n",
    "    decoder_start_token_id = tokenizer.encode('Subject')[0], \n",
    "    num_beams              = 2, \n",
    ")"
   ]
  },
  {
   "cell_type": "code",
   "execution_count": 12,
   "metadata": {},
   "outputs": [
    {
     "data": {
      "text/plain": [
       "['Subject\\n\\n\\n\\n\\n\\n\\n\\n\\n\\n\\n\\n\\n.................................................................................................................-',\n",
       " 'Subject\\n\\n\\n\\n\\n\\n\\n\\n\\n\\n.........................................................................................-To.To-ToTheToToToToToToToTheTo-The-ToThe-The-The-The-']"
      ]
     },
     "execution_count": 12,
     "metadata": {},
     "output_type": "execute_result"
    }
   ],
   "source": [
    "tokenizer.batch_decode(output)"
   ]
  }
 ],
 "metadata": {
  "kernelspec": {
   "display_name": "Python 3",
   "language": "python",
   "name": "python3"
  },
  "language_info": {
   "codemirror_mode": {
    "name": "ipython",
    "version": 3
   },
   "file_extension": ".py",
   "mimetype": "text/x-python",
   "name": "python",
   "nbconvert_exporter": "python",
   "pygments_lexer": "ipython3",
   "version": "3.6.10"
  }
 },
 "nbformat": 4,
 "nbformat_minor": 4
}
