{
 "cells": [
  {
   "cell_type": "code",
   "execution_count": 1,
   "metadata": {},
   "outputs": [],
   "source": [
    "from build_dataset import create_dataloader\n",
    "from models import *\n",
    "from main import get_args\n",
    "import torch.nn as nn\n",
    "import torch\n",
    "\n",
    "from transformers import GPT2Tokenizer, GPT2Model, GPT2Config"
   ]
  },
  {
   "cell_type": "code",
   "execution_count": 2,
   "metadata": {},
   "outputs": [],
   "source": [
    "args = get_args(True)\n",
    "args.yaml_file = '../config/captioning_config.yaml'"
   ]
  },
  {
   "cell_type": "code",
   "execution_count": 3,
   "metadata": {},
   "outputs": [
    {
     "data": {
      "text/plain": [
       "1"
      ]
     },
     "execution_count": 3,
     "metadata": {},
     "output_type": "execute_result"
    }
   ],
   "source": [
    "tokenizer = GPT2Tokenizer.from_pretrained('gpt2')\n",
    "tokenizer.add_special_tokens({'cls_token':'[CLS]'})"
   ]
  },
  {
   "cell_type": "markdown",
   "metadata": {},
   "source": [
    "# Load a Dataloader"
   ]
  },
  {
   "cell_type": "code",
   "execution_count": 4,
   "metadata": {},
   "outputs": [],
   "source": [
    "trainloader = create_dataloader(args, 'val', tokenizer)"
   ]
  },
  {
   "cell_type": "code",
   "execution_count": 5,
   "metadata": {},
   "outputs": [],
   "source": [
    "captions, frames, labels = next(iter(trainloader))"
   ]
  },
  {
   "cell_type": "markdown",
   "metadata": {},
   "source": [
    "# Build a VideoBoundaryCoCa"
   ]
  },
  {
   "cell_type": "code",
   "execution_count": 6,
   "metadata": {},
   "outputs": [
    {
     "name": "stderr",
     "output_type": "stream",
     "text": [
      "Some weights of MultiModalDecoder were not initialized from the model checkpoint at gpt2 and are newly initialized: ['h.0.crossattention.masked_bias', 'h.8.ln_cross_attn.bias', 'h.3.ln_cross_attn.weight', 'h.1.crossattention.q_attn.bias', 'h.2.crossattention.c_attn.bias', 'h.7.ln_cross_attn.weight', 'h.11.crossattention.bias', 'h.9.ln_cross_attn.weight', 'h.8.crossattention.c_attn.weight', 'h.6.crossattention.c_proj.bias', 'h.7.crossattention.c_attn.weight', 'h.3.crossattention.masked_bias', 'h.10.crossattention.masked_bias', 'h.10.crossattention.c_attn.weight', 'h.0.crossattention.q_attn.bias', 'h.11.crossattention.c_attn.bias', 'h.9.ln_cross_attn.bias', 'h.0.ln_cross_attn.weight', 'h.8.crossattention.masked_bias', 'h.10.crossattention.q_attn.bias', 'h.6.ln_cross_attn.bias', 'h.2.ln_cross_attn.weight', 'h.8.crossattention.c_proj.bias', 'h.6.crossattention.c_attn.bias', 'h.1.crossattention.c_attn.weight', 'h.6.crossattention.c_attn.weight', 'h.5.crossattention.c_proj.bias', 'h.10.crossattention.c_attn.bias', 'h.2.crossattention.c_proj.bias', 'h.9.crossattention.c_attn.weight', 'h.2.crossattention.q_attn.bias', 'h.11.crossattention.c_attn.weight', 'h.3.crossattention.bias', 'h.8.crossattention.q_attn.bias', 'h.0.crossattention.c_attn.weight', 'h.10.crossattention.c_proj.bias', 'h.4.crossattention.q_attn.bias', 'h.7.crossattention.c_proj.bias', 'h.11.ln_cross_attn.weight', 'h.8.crossattention.c_attn.bias', 'h.1.crossattention.masked_bias', 'h.7.crossattention.q_attn.weight', 'h.8.ln_cross_attn.weight', 'h.4.crossattention.q_attn.weight', 'h.7.crossattention.c_attn.bias', 'h.3.ln_cross_attn.bias', 'h.11.crossattention.c_proj.weight', 'h.8.crossattention.q_attn.weight', 'h.4.crossattention.c_attn.weight', 'h.9.crossattention.c_proj.bias', 'h.4.ln_cross_attn.bias', 'h.10.crossattention.q_attn.weight', 'h.0.crossattention.c_attn.bias', 'h.2.crossattention.bias', 'h.1.ln_cross_attn.weight', 'h.11.crossattention.c_proj.bias', 'h.5.crossattention.masked_bias', 'h.2.ln_cross_attn.bias', 'h.7.crossattention.bias', 'h.1.crossattention.c_attn.bias', 'h.0.crossattention.c_proj.bias', 'h.4.crossattention.masked_bias', 'h.7.crossattention.q_attn.bias', 'h.2.crossattention.masked_bias', 'h.6.ln_cross_attn.weight', 'h.5.crossattention.c_proj.weight', 'h.10.crossattention.bias', 'h.9.crossattention.q_attn.bias', 'h.5.crossattention.bias', 'h.6.crossattention.q_attn.bias', 'h.3.crossattention.c_proj.bias', 'h.5.crossattention.c_attn.bias', 'h.5.ln_cross_attn.bias', 'h.11.ln_cross_attn.bias', 'h.2.crossattention.c_proj.weight', 'h.2.crossattention.c_attn.weight', 'h.10.crossattention.c_proj.weight', 'h.0.crossattention.c_proj.weight', 'h.4.crossattention.c_proj.bias', 'h.0.crossattention.bias', 'h.7.ln_cross_attn.bias', 'h.4.crossattention.bias', 'h.7.crossattention.masked_bias', 'h.1.crossattention.c_proj.bias', 'h.6.crossattention.q_attn.weight', 'h.4.crossattention.c_attn.bias', 'h.11.crossattention.masked_bias', 'h.5.crossattention.c_attn.weight', 'h.3.crossattention.q_attn.weight', 'h.9.crossattention.c_attn.bias', 'h.6.crossattention.masked_bias', 'h.4.ln_cross_attn.weight', 'h.6.crossattention.bias', 'h.0.crossattention.q_attn.weight', 'h.3.crossattention.c_attn.weight', 'h.1.crossattention.bias', 'h.8.crossattention.bias', 'h.1.ln_cross_attn.bias', 'h.3.crossattention.c_proj.weight', 'h.7.crossattention.c_proj.weight', 'h.1.crossattention.q_attn.weight', 'h.2.crossattention.q_attn.weight', 'h.5.crossattention.q_attn.weight', 'h.9.crossattention.q_attn.weight', 'h.3.crossattention.c_attn.bias', 'h.11.crossattention.q_attn.weight', 'h.10.ln_cross_attn.weight', 'h.0.ln_cross_attn.bias', 'h.8.crossattention.c_proj.weight', 'h.5.crossattention.q_attn.bias', 'h.4.crossattention.c_proj.weight', 'h.11.crossattention.q_attn.bias', 'h.1.crossattention.c_proj.weight', 'h.3.crossattention.q_attn.bias', 'h.9.crossattention.bias', 'h.9.crossattention.masked_bias', 'h.6.crossattention.c_proj.weight', 'h.5.ln_cross_attn.weight', 'h.10.ln_cross_attn.bias', 'h.9.crossattention.c_proj.weight']\n",
      "You should probably TRAIN this model on a down-stream task to be able to use it for predictions and inference.\n"
     ]
    }
   ],
   "source": [
    "args.img_size = 224\n",
    "model = create_model(args, tokenizer)"
   ]
  },
  {
   "cell_type": "code",
   "execution_count": 8,
   "metadata": {},
   "outputs": [],
   "source": [
    "loss = model(captions, frames, labels, return_loss=True)"
   ]
  }
 ],
 "metadata": {
  "kernelspec": {
   "display_name": "Python 3",
   "language": "python",
   "name": "python3"
  },
  "language_info": {
   "codemirror_mode": {
    "name": "ipython",
    "version": 3
   },
   "file_extension": ".py",
   "mimetype": "text/x-python",
   "name": "python",
   "nbconvert_exporter": "python",
   "pygments_lexer": "ipython3",
   "version": "3.6.10"
  }
 },
 "nbformat": 4,
 "nbformat_minor": 4
}
