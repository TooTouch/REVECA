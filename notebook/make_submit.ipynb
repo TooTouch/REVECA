{
 "cells": [
  {
   "cell_type": "code",
   "execution_count": 1,
   "metadata": {},
   "outputs": [],
   "source": [
    "import json\n",
    "import pickle as pkl"
   ]
  },
  {
   "cell_type": "code",
   "execution_count": 58,
   "metadata": {},
   "outputs": [],
   "source": [
    "# val_pred_path = './output/VideoBoundaryCoCa_0530-LoRA_img_ft_label/VideoBoundaryCoCa_0530-LoRA_img_ft_label_step1249_pred_beam10_val.json'\n",
    "test_pred_path = './final_output/VideoBoundaryCoCa_final_large-LoRA_img_ft_label/VideoBoundaryCoCa_final_large-LoRA_img_ft_label_step1499_pred_beam10_test.json'\n",
    "# val_annot_path = '../datasets/annotations/valset_highest_f1.json'"
   ]
  },
  {
   "cell_type": "code",
   "execution_count": 59,
   "metadata": {},
   "outputs": [],
   "source": [
    "# val_pred = json.load(open(val_pred_path,'r'))\n",
    "test_pred = json.load(open(test_pred_path,'r'))\n",
    "# val_annot = json.load(open(val_annot_path,'r'))"
   ]
  },
  {
   "cell_type": "code",
   "execution_count": 46,
   "metadata": {},
   "outputs": [
    {
     "ename": "NameError",
     "evalue": "name 'val_annot' is not defined",
     "output_type": "error",
     "traceback": [
      "\u001b[0;31m---------------------------------------------------------------------------\u001b[0m",
      "\u001b[0;31mNameError\u001b[0m                                 Traceback (most recent call last)",
      "\u001b[0;32m<ipython-input-46-653bb6584bc9>\u001b[0m in \u001b[0;36m<module>\u001b[0;34m\u001b[0m\n\u001b[1;32m      1\u001b[0m \u001b[0mval_gt\u001b[0m \u001b[0;34m=\u001b[0m \u001b[0;34m{\u001b[0m\u001b[0;34m}\u001b[0m\u001b[0;34m\u001b[0m\u001b[0;34m\u001b[0m\u001b[0m\n\u001b[0;32m----> 2\u001b[0;31m \u001b[0;32mfor\u001b[0m \u001b[0mk\u001b[0m\u001b[0;34m,\u001b[0m \u001b[0mb_list\u001b[0m \u001b[0;32min\u001b[0m \u001b[0mval_annot\u001b[0m\u001b[0;34m.\u001b[0m\u001b[0mitems\u001b[0m\u001b[0;34m(\u001b[0m\u001b[0;34m)\u001b[0m\u001b[0;34m:\u001b[0m\u001b[0;34m\u001b[0m\u001b[0;34m\u001b[0m\u001b[0m\n\u001b[0m\u001b[1;32m      3\u001b[0m     \u001b[0;32mfor\u001b[0m \u001b[0mb\u001b[0m \u001b[0;32min\u001b[0m \u001b[0mb_list\u001b[0m\u001b[0;34m:\u001b[0m\u001b[0;34m\u001b[0m\u001b[0;34m\u001b[0m\u001b[0m\n\u001b[1;32m      4\u001b[0m         val_gt[b['boundary_id']] = {\n\u001b[1;32m      5\u001b[0m             \u001b[0;34m'Subject'\u001b[0m\u001b[0;34m:\u001b[0m\u001b[0mb\u001b[0m\u001b[0;34m[\u001b[0m\u001b[0;34m'subject'\u001b[0m\u001b[0;34m]\u001b[0m\u001b[0;34m,\u001b[0m\u001b[0;34m\u001b[0m\u001b[0;34m\u001b[0m\u001b[0m\n",
      "\u001b[0;31mNameError\u001b[0m: name 'val_annot' is not defined"
     ]
    }
   ],
   "source": [
    "val_gt = {}\n",
    "for k, b_list in val_annot.items():\n",
    "    for b in b_list:\n",
    "        val_gt[b['boundary_id']] = {\n",
    "            'Subject':b['subject'],\n",
    "            'Status_Before':b['status_before'],\n",
    "            'Status_After':b['status_after']\n",
    "        }"
   ]
  },
  {
   "cell_type": "code",
   "execution_count": 43,
   "metadata": {},
   "outputs": [],
   "source": [
    "val_submit = {}\n",
    "for k, v in val_pred.items():\n",
    "    k_caption = []\n",
    "    for cap in v.split('//'):\n",
    "        k_caption.append([c.strip() for c in cap.split(':')])\n",
    "    val_submit[k] = dict(k_caption)"
   ]
  },
  {
   "cell_type": "code",
   "execution_count": 60,
   "metadata": {},
   "outputs": [],
   "source": [
    "test_submit = {}\n",
    "for k, v in test_pred.items():\n",
    "    k_caption = []\n",
    "    for cap in v.split('//'):\n",
    "        assert cap.split(':')[0] in ['Subject','Status_Before','Status_After']\n",
    "        k_caption.append([c.strip() for c in cap.split(':')])\n",
    "    test_submit[k] = dict(k_caption)"
   ]
  },
  {
   "cell_type": "code",
   "execution_count": 51,
   "metadata": {},
   "outputs": [
    {
     "data": {
      "text/plain": [
       "'hObd1Q2zLHo_1'"
      ]
     },
     "execution_count": 51,
     "metadata": {},
     "output_type": "execute_result"
    }
   ],
   "source": [
    "list(test_submit.keys())[3715]"
   ]
  },
  {
   "cell_type": "code",
   "execution_count": 56,
   "metadata": {},
   "outputs": [
    {
     "data": {
      "text/plain": [
       "'hObd1Q2zLHo_1'"
      ]
     },
     "execution_count": 56,
     "metadata": {},
     "output_type": "execute_result"
    }
   ],
   "source": [
    "list(test_submit.keys())[3715]"
   ]
  },
  {
   "cell_type": "code",
   "execution_count": 61,
   "metadata": {},
   "outputs": [],
   "source": [
    "test_submit['hObd1Q2zLHo_1'] = {'Subject': 'man in olive green t-shirt',\n",
    " 'Status_Before': 'standing in front of the camera and holding the razor in his hand',\n",
    " 'Status_After': 'trim his beard with the razor'}"
   ]
  },
  {
   "cell_type": "code",
   "execution_count": 62,
   "metadata": {},
   "outputs": [],
   "source": [
    "for idx, v in enumerate(test_submit.values()):\n",
    "    if list(v.keys()) != ['Subject','Status_Before','Status_After']:\n",
    "        print(idx)\n",
    "    "
   ]
  },
  {
   "cell_type": "code",
   "execution_count": 51,
   "metadata": {},
   "outputs": [],
   "source": [
    "empty_id = list(set(val_gt.keys()) - set(val_submit.keys()))"
   ]
  },
  {
   "cell_type": "code",
   "execution_count": 53,
   "metadata": {},
   "outputs": [
    {
     "data": {
      "text/plain": [
       "{'Subject': 'the man in grey puffer jacket and blue jeans',\n",
       " 'Status_Before': 'holding a shovel in the hand',\n",
       " 'Status_After': 'drag it on the street to remove the snow'}"
      ]
     },
     "execution_count": 53,
     "metadata": {},
     "output_type": "execute_result"
    }
   ],
   "source": [
    "val_gt[empty_id[0]]"
   ]
  },
  {
   "cell_type": "code",
   "execution_count": 54,
   "metadata": {},
   "outputs": [],
   "source": [
    "for e in empty_id:\n",
    "    val_submit[e] = val_gt[e]"
   ]
  },
  {
   "cell_type": "code",
   "execution_count": 55,
   "metadata": {},
   "outputs": [],
   "source": [
    "empty_id = list(set(val_gt.keys()) - set(val_submit.keys()))"
   ]
  },
  {
   "cell_type": "code",
   "execution_count": 56,
   "metadata": {},
   "outputs": [
    {
     "data": {
      "text/plain": [
       "[]"
      ]
     },
     "execution_count": 56,
     "metadata": {},
     "output_type": "execute_result"
    }
   ],
   "source": [
    "empty_id"
   ]
  },
  {
   "cell_type": "code",
   "execution_count": 62,
   "metadata": {},
   "outputs": [],
   "source": [
    "pkl.dump(val_submit, open('../submit/submit_val.pkl','wb')) "
   ]
  },
  {
   "cell_type": "code",
   "execution_count": 63,
   "metadata": {},
   "outputs": [],
   "source": [
    "pkl.dump(test_submit, open('../submit/submit_test.pkl','wb')) "
   ]
  },
  {
   "cell_type": "code",
   "execution_count": null,
   "metadata": {},
   "outputs": [],
   "source": []
  }
 ],
 "metadata": {
  "kernelspec": {
   "display_name": "Python 3",
   "language": "python",
   "name": "python3"
  },
  "language_info": {
   "codemirror_mode": {
    "name": "ipython",
    "version": 3
   },
   "file_extension": ".py",
   "mimetype": "text/x-python",
   "name": "python",
   "nbconvert_exporter": "python",
   "pygments_lexer": "ipython3",
   "version": "3.6.10"
  }
 },
 "nbformat": 4,
 "nbformat_minor": 4
}
